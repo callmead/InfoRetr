{
 "cells": [
  {
   "cell_type": "code",
   "execution_count": null,
   "metadata": {},
   "outputs": [],
   "source": [
    "import urllib\n",
    "import urllib.request\n",
    "from bs4 import BeautifulSoup\n",
    "\n",
    "i=1\n",
    "ind=0 \n",
    "text = \"\"\n",
    "title = \"\"\n",
    "idx2 = 0\n",
    "\n",
    "# defining the soup function that accept the url\n",
    "def make_soup(url):\n",
    "    thepage = urllib.request.urlopen(url)\n",
    "    soupdata = BeautifulSoup(thepage, \"html.parser\")\n",
    "    return soupdata\n",
    "\n",
    "\n",
    "soup = make_soup(\"http://wallpaperim.net/index/category/107-bugs_wallpapers\")\n",
    "for img in soup.findAll('img'):\n",
    "    temp = img.get('src')\n",
    "   \n",
    "    \n",
    "    \n",
    "    ind  = temp.find(\"_data\")\n",
    "    temp = temp[ind:]\n",
    "    \n",
    "    \n",
    "    # getting an image address and replacing the image name with proper image title  \n",
    "    image = \"http://wallpaperim.net/\" + temp\n",
    "    #print(image)\n",
    "    nametemp = img.get('alt')\n",
    "    i=i+1\n",
    "    r= str(i)\n",
    "    \n",
    "    title = img.get('title')\n",
    "    print(title)\n",
    "    \n",
    "    text += str(nametemp) + \".jpg\" + \",\" + str(image) + \",\" + str(title) + \",\" + \"C:/Users/swapn/Assignment- Web crawling\" + \"\\n\"\n",
    "     \n",
    "    \n",
    "    if str(nametemp)==\"\":\n",
    "        filename = r\n",
    "        \n",
    "    else:\n",
    "        filename=str(nametemp)+str(r)\n",
    "        print(filename)    \n",
    "        \n",
    "    imagefile = open(filename + \".jpg\", 'wb')\n",
    "    imagefile.write(urllib.request.urlopen(image).read())\n",
    "    imagefile.close()\n",
    "\n",
    "text_file = open(\"webdata.csv\", \"w+\")\n",
    "text_file.write(text)\n",
    "text_file.close()    "
   ]
  }
 ],
 "metadata": {
  "kernelspec": {
   "display_name": "Python 3",
   "language": "python",
   "name": "python3"
  },
  "language_info": {
   "codemirror_mode": {
    "name": "ipython",
    "version": 3
   },
   "file_extension": ".py",
   "mimetype": "text/x-python",
   "name": "python",
   "nbconvert_exporter": "python",
   "pygments_lexer": "ipython3",
   "version": "3.6.5"
  }
 },
 "nbformat": 4,
 "nbformat_minor": 2
}
